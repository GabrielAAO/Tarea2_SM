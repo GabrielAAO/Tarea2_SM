{
 "cells": [
  {
   "cell_type": "markdown",
   "metadata": {},
   "source": [
    "# Resúmenes tarea 2\n",
    "\n",
    "\n",
    "## [Python: 7 razones importantes de por qué deberías usar Python](https://medium.com/@mindfiresolutions.usa/python-7-important-reasons-why-you-should-use-python-5801a98a0d0b)\n",
    "\n",
    "De acuerdo al _TIOBE Programming Community Index_ Python es uno de los 10 lenguajes de programación más populares en 2017. \n",
    "Su sintaxis simple hace que este lenguaje sea incluso más sencillo de utilizar, pues permite que la lectura del código fuente sea más sencilla y entendible, además se presentan **7 razones por las que se debería usar Python**"
   ]
  },
  {
   "cell_type": "markdown",
   "metadata": {},
   "source": [
    "### 1. Código legible y mantenible\n",
    "\n",
    "Las reglas de sintaxis de _Python_ te permiten expresar ideas sin la necesidad de escribir código adicional y usar palabras en inglés en lugar de signos de puntuación.\n",
    "\n",
    "### 2. Multiples paradigmas de programación\n",
    "\n",
    "Como otros lenguajes de programación modernos,_Python_ brinda soporte completo a programación orientada a objetos y programación estructurada.\n",
    "\n",
    "### 3. Compatible con la mayoría de programas y sistemas\n",
    "\n",
    "Actualmente, _Python_ soporta muchos sistemas operativos, además de ser un lenguaje interpretativo, lo que permite correr el mismo código en diferentes plataformas sin necesidad de recompilación.\n",
    "\n",
    "### 4. Librería estándar robusta\n",
    "\n",
    "Su larga y robusta librería estándar le da puntos a _Python_ sobre otros lenguajes de programación. Su librería estándar te permite escoger de un amplio rango de módulos de acuerdo a tus necesidades específicas.\n",
    "\n",
    "### 5. Muchos arcos y herramientas de código abierto\n",
    "\n",
    "Al ser un lenguaje de código abierto, puedes usar muchos marcos, librerías y herramientas de programación para reducir significativamente tanto el costo como el tiempo de desarrollo de software.\n",
    "\n",
    "### 6. Simplifica el desarrollo de software complejo\n",
    "\n",
    "_Python_ es un lenguaje de programación multipropósito, por lo que puedes desarrollar tanto aplicaciones web como de escritorio, aplkicaciones numéricas y científicas complejas. Además de estar diseñado de forma que facilita la visualización y análisis de datos.\n",
    "\n",
    "### 7. Adopta el desarrollo basado en pruebas\n",
    "\n",
    "Puedes usar _Python_ para crear rápidamente un prototipo de aplicación de software y posibilita construir dicha aplicación de directo desde el prototipo. Hace más sencillo ejecutar código y hacer pruebas al adoptar el desarrollo basado en pruebas _TDD_ (Test Driven Devolpment)"
   ]
  },
  {
   "cell_type": "markdown",
   "metadata": {},
   "source": []
  }
 ],
 "metadata": {
  "kernelspec": {
   "display_name": "Python 3",
   "language": "python",
   "name": "python3"
  },
  "language_info": {
   "codemirror_mode": {
    "name": "ipython",
    "version": 3
   },
   "file_extension": ".py",
   "mimetype": "text/x-python",
   "name": "python",
   "nbconvert_exporter": "python",
   "pygments_lexer": "ipython3",
   "version": "3.8.3"
  }
 },
 "nbformat": 4,
 "nbformat_minor": 4
}
